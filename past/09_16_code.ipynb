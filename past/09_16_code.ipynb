{
  "nbformat": 4,
  "nbformat_minor": 0,
  "metadata": {
    "colab": {
      "name": "09_16_code.ipynb",
      "provenance": [],
      "collapsed_sections": [],
      "authorship_tag": "ABX9TyO9yY/vJqCTg2XH28FEA7e4",
      "include_colab_link": true
    },
    "kernelspec": {
      "name": "python3",
      "display_name": "Python 3"
    },
    "language_info": {
      "name": "python"
    }
  },
  "cells": [
    {
      "cell_type": "markdown",
      "metadata": {
        "id": "view-in-github",
        "colab_type": "text"
      },
      "source": [
        "<a href=\"https://colab.research.google.com/github/yhw991228/python_study_programmers/blob/main/09_16_code.ipynb\" target=\"_parent\"><img src=\"https://colab.research.google.com/assets/colab-badge.svg\" alt=\"Open In Colab\"/></a>"
      ]
    },
    {
      "cell_type": "markdown",
      "metadata": {
        "id": "_UfC-sQFmRfn"
      },
      "source": [
        ""
      ]
    },
    {
      "cell_type": "code",
      "metadata": {
        "colab": {
          "base_uri": "https://localhost:8080/"
        },
        "id": "BR6ehH0Sk_Dg",
        "outputId": "b54316a9-9f7a-41f1-915f-3d97bbc03375"
      },
      "source": [
        "#no_1_brute_force\n",
        "\n",
        "n,m=map(int,input().split(' '))\n",
        "a=list(map(int,input().split(' ')))\n",
        "result=[]\n",
        "\n",
        "for i in range(n-2):\n",
        "  for j in range(i+1,n-1):\n",
        "    for k in range(j+1,n):\n",
        "      b=m-(a[i]+a[j]+a[k])\n",
        "      if b>=0:\n",
        "        result.append(b)\n",
        "      else:\n",
        "        result.append(30000) \n",
        "print(m-min(result))"
      ],
      "execution_count": null,
      "outputs": [
        {
          "output_type": "stream",
          "name": "stdout",
          "text": [
            "10 500\n",
            "93 181 245 214 315 36 185 138 216 295\n",
            "497\n"
          ]
        }
      ]
    },
    {
      "cell_type": "code",
      "metadata": {
        "colab": {
          "base_uri": "https://localhost:8080/"
        },
        "id": "M9iApIZIo7lT",
        "outputId": "71932dc6-e26a-4813-c891-05a3296bc987"
      },
      "source": [
        "#no_2_brute_force\n",
        "\n",
        "n=int(input())\n",
        "\n",
        "for i in range(n+1):\n",
        "  a=sum(map(int, str(i)))\n",
        "  if i+a ==n:\n",
        "    print(i)\n",
        "    break\n",
        "    \n",
        "  if i==n:\n",
        "    print(0)"
      ],
      "execution_count": null,
      "outputs": [
        {
          "output_type": "stream",
          "name": "stdout",
          "text": [
            "216\n",
            "198\n",
            "207\n",
            "0\n"
          ]
        }
      ]
    },
    {
      "cell_type": "code",
      "metadata": {
        "colab": {
          "base_uri": "https://localhost:8080/"
        },
        "id": "ZhTdOt3qpeDU",
        "outputId": "4a7eca92-c837-4858-db15-0cf271c83ce4"
      },
      "source": [
        "#no_3_brute_force\n",
        "\n",
        "n=int(input())\n",
        "a=[]\n",
        "for i in range(n):\n",
        "  a.append(list(map(int,input().split(' '))))\n",
        "result=[1]*n\n",
        "\n",
        "for i in range(n):\n",
        "  for j in range(n):\n",
        "    if a[i][0]<a[j][0] and a[i][1]<a[j][1]:\n",
        "      result[i]+=1\n",
        "for i in result:\n",
        "  print(i,end=' ')\n"
      ],
      "execution_count": null,
      "outputs": [
        {
          "output_type": "stream",
          "name": "stdout",
          "text": [
            "2\n",
            "1 3\n",
            "2 4\n",
            "2 1 "
          ]
        }
      ]
    },
    {
      "cell_type": "code",
      "metadata": {
        "id": "c6EhkIrQiVw5"
      },
      "source": [
        "#no_4_brute_force\n",
        "\n",
        "n, m = map(int, input().split())\n",
        "chess_W = [[0] * m for _ in range(n)] #화이트로 시작하는 체스판\n",
        "chess_B = [[0] * m for _ in range(n)] #블랙으로 시작하는 체스판\n",
        "arr = [list(input()) for _ in range(n)]\n",
        "cnt = float('inf')\n",
        " \n",
        "for i in range(n):\n",
        "    for j in range(m):\n",
        "        if not (i+j) % 2:\n",
        "            chess_W[i][j] = 'W'\n",
        "            chess_B[i][j] = 'B'\n",
        "        else:\n",
        "            chess_W[i][j] = 'B'\n",
        "            chess_B[i][j] = 'W'\n",
        "for i in range(n-7): #8x8의 모든 경우의 수 돌려보기 \n",
        "    for j in range(m-7):\n",
        "        temp_W, temp_B = 0, 0 \n",
        "        for x in range(8):\n",
        "            for y in range(8):\n",
        "                if arr[i+x][j+y] != chess_W[i+x][j+y]:\n",
        "                    temp_W += 1\n",
        "                if arr[i+x][j+y] != chess_B[i+x][j+y]:\n",
        "                    temp_B += 1\n",
        "        cnt = min(cnt, temp_W) #cnt 작은값으로 갱신\n",
        "        cnt = min(cnt, temp_B)\n",
        "print(cnt)"
      ],
      "execution_count": null,
      "outputs": []
    },
    {
      "cell_type": "code",
      "metadata": {
        "colab": {
          "base_uri": "https://localhost:8080/"
        },
        "id": "N2uGha4og1Gp",
        "outputId": "7b1311de-005a-4f61-ecc3-d661ec37408e"
      },
      "source": [
        "#no_5_brute_force\n",
        "n=int(input())\n",
        "\n",
        "num = 666\n",
        "\n",
        "while n:\n",
        "    if \"666\" in str(num):\n",
        "        n -= 1\n",
        "    num += 1\n",
        "\n",
        "print(num - 1)"
      ],
      "execution_count": null,
      "outputs": [
        {
          "output_type": "stream",
          "name": "stdout",
          "text": [
            "2\n",
            "1666\n"
          ]
        }
      ]
    },
    {
      "cell_type": "code",
      "metadata": {
        "id": "z8ZJBns0h9UF"
      },
      "source": [
        "#no_01_recursion\n",
        "n=int(input())\n",
        "\n",
        "def fac(a):\n",
        "    if a==0:\n",
        "        return 1\n",
        "    return a*fac(a-1)\n",
        "\n",
        "print(fac(n))"
      ],
      "execution_count": null,
      "outputs": []
    },
    {
      "cell_type": "code",
      "metadata": {
        "id": "yYMghcEwh9eW"
      },
      "source": [
        "#no_2_resursion\n",
        "n=int(input())\n",
        "\n",
        "def fib(n):\n",
        "    if n<=1:\n",
        "        return n\n",
        "    else:\n",
        "        return fib(n-1)+fib(n-2)\n",
        "print(fib(n))"
      ],
      "execution_count": null,
      "outputs": []
    },
    {
      "cell_type": "code",
      "metadata": {
        "id": "ewDTzz3GB0tc",
        "colab": {
          "base_uri": "https://localhost:8080/"
        },
        "outputId": "f4f145e1-0673-43e8-b737-97638d1d0448"
      },
      "source": [
        "#recursion_no_3\n",
        "def draw_star(n) :\n",
        "    global Map\n",
        "    \n",
        "    if n == 3 :\n",
        "        Map[0][:3] = Map[2][:3] = [1]*3\n",
        "        # 첫 번째 행의 1~3열과 세 번째 행의 1~3열은\n",
        "        # [1] (별이 있다는 뜻) 이 3개 들어간 형태\n",
        "        # [1] * 3 을 해줄 경우 [1, 1, 1]의 행이 만들어짐!\n",
        "        Map[1][:3] = [1, 0, 1]\n",
        "        return\n",
        "\n",
        "    a = n//3\n",
        "    draw_star(n//3)\n",
        "    for i in range(3) :\n",
        "        for j in range(3) :\n",
        "            if i == 1 and j == 1 :\n",
        "                continue\n",
        "            for k in range(a) :\n",
        "                Map[a*i+k][a*j:a*(j+1)] = Map[k][:a] # 핵심 아이디어\n",
        "\n",
        "N = int(input())      \n",
        "\n",
        "# 메인 데이터 선언\n",
        "Map = [[0 for i in range(N)] for i in range(N)]\n",
        "\n",
        "draw_star(N)\n",
        "\n",
        "for i in Map :\n",
        "    for j in i :\n",
        "        if j :\n",
        "            print('*', end = '')\n",
        "        else :\n",
        "            print(' ', end = '')\n",
        "    print()"
      ],
      "execution_count": null,
      "outputs": [
        {
          "output_type": "stream",
          "name": "stdout",
          "text": [
            "[1, 63]\n"
          ]
        }
      ]
    },
    {
      "cell_type": "code",
      "metadata": {
        "colab": {
          "base_uri": "https://localhost:8080/"
        },
        "id": "_4sU-zxIB6zk",
        "outputId": "c9b7de0f-f97e-491a-c295-3ab894c29af5"
      },
      "source": [
        "#recursion_no_04\n",
        "\n",
        "def hanoi(n, a, b, c):\n",
        "  if n==1:\n",
        "    move.append([a,c])\n",
        "  else:\n",
        "    hanoi(n-1,a,c,b)\n",
        "    move.append([a,c])\n",
        "    hanoi(n-1,b,a,c)\n",
        "move=[]\n",
        "hanoi(int(input()),1,2,3)\n",
        "print(len(move))\n",
        "print(\"\\n\".join([' '.join(str(i) for i in row ) for row in move]))"
      ],
      "execution_count": null,
      "outputs": [
        {
          "output_type": "stream",
          "name": "stdout",
          "text": [
            "3\n",
            "7\n",
            "1 3\n",
            "1 2\n",
            "3 2\n",
            "1 3\n",
            "2 1\n",
            "2 3\n",
            "1 3\n"
          ]
        }
      ]
    }
  ]
}