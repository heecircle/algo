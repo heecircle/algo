{
  "nbformat": 4,
  "nbformat_minor": 0,
  "metadata": {
    "colab": {
      "name": "09_23_code.ipynb",
      "provenance": [],
      "authorship_tag": "ABX9TyMHydKSQ4riMakO/ii2xWa5",
      "include_colab_link": true
    },
    "kernelspec": {
      "name": "python3",
      "display_name": "Python 3"
    },
    "language_info": {
      "name": "python"
    }
  },
  "cells": [
    {
      "cell_type": "markdown",
      "metadata": {
        "id": "view-in-github",
        "colab_type": "text"
      },
      "source": [
        "<a href=\"https://colab.research.google.com/github/yhw991228/python_study_programmers/blob/main/09_23_code.ipynb\" target=\"_parent\"><img src=\"https://colab.research.google.com/assets/colab-badge.svg\" alt=\"Open In Colab\"/></a>"
      ]
    },
    {
      "cell_type": "markdown",
      "metadata": {
        "id": "DjUxWOjTcGlo"
      },
      "source": [
        "Divide and Conquer "
      ]
    },
    {
      "cell_type": "code",
      "metadata": {
        "id": "DuAx5iiRb7kV"
      },
      "source": [
        "#01_색종이 자르기_2630번\n",
        "import sys\n",
        "input = sys.stdin.readline\n",
        "N = int(input()) \n",
        "maps = [[]]*N\n",
        "for i  in range(N):\n",
        "    maps[i]=list(map(int, input().split()))\n",
        "WHITE = 0\n",
        "BLUE = 0\n",
        "#cases =[\"WHITE\",\"BLUE\", \"NOT_MATCH\"]\n",
        "def divide_conquer(xs,ys,xe,ye): #시작 좌표, 끝나는 좌표랑 맞춰서!\n",
        "    global WHITE \n",
        "    global BLUE \n",
        "    control= maps[xs][ys] \n",
        "    case = control\n",
        "    for x in range(xs,xe):\n",
        "        for y in range(ys,ye): #흰색혹은 파란색으로 구분이 안되면 case 2번d으로 바꾸고 다시 재귀돌림\n",
        "            if maps[x][y] != control:\n",
        "                case = 2\n",
        "                break \n",
        "    if case ==2:\n",
        "        divide_conquer(xs,ys,(xs+xe)//2,(ys+ye)//2) \n",
        "        divide_conquer((xs+xe)//2,ys,xe,(ys+ye)//2) \n",
        "        divide_conquer(xs,(ys+ye)//2,(xs+xe)//2,ye) \n",
        "        divide_conquer((xs+xe)//2,(ys+ye)//2,xe,ye) \n",
        "    elif case ==1: # 파란색일경우\n",
        "        BLUE +=1\n",
        "    elif case ==0: # 흰색ㅇ일 경우\n",
        "        WHITE +=1\n",
        "    return \n",
        "divide_conquer(0,0,N,N)\n",
        "print(WHITE)\n",
        "print(BLUE)"
      ],
      "execution_count": null,
      "outputs": []
    },
    {
      "cell_type": "code",
      "metadata": {
        "id": "Uqllwx4pcXkr"
      },
      "source": [
        "#02_쿼드트리_1992번\n",
        "import sys\n",
        "\n",
        "N = int(sys.stdin.readline())\n",
        "quadTree = [list(map(int,sys.stdin.readline().strip())) for _ in range(N)]\n",
        "\n",
        "def solution(x, y, N) : #시작 좌표, 길이\n",
        "  image = quadTree[x][y] # 비교할 부분!\n",
        "  for i in range(x, x+N) :\n",
        "    for j in range(y, y+N) :\n",
        "      if image != quadTree[i][j] :\n",
        "        print('(', end='') \n",
        "        solution(x,y,N//2)\n",
        "        solution(x,y+N//2,N//2)\n",
        "        solution(x+N//2,y,N//2)\n",
        "        solution(x+N//2,y+N//2,N//2)\n",
        "        print(')', end='')\n",
        "        return     \n",
        "  if image == 0 : # 다 0일경우\n",
        "    print('0', end='')\n",
        "  else : #다 1일 경우\n",
        "    print('1', end='')\n",
        "  \n",
        "\n",
        "solution(0,0,N)"
      ],
      "execution_count": null,
      "outputs": []
    },
    {
      "cell_type": "code",
      "metadata": {
        "id": "GQi2jugCcoiO"
      },
      "source": [
        "#03_종이의개수_1780번\n",
        "def nine_tree(x, y, n):\n",
        "    global matrix, minus, zero, plus\n",
        "    type = matrix[y][x] #첫 번째 가지구 비교\n",
        "    double_break = False #그냥 빨리끝낼려고 double_break해줌\n",
        "    \n",
        "    for i in range(x, x+n):\n",
        "        if double_break: \n",
        "            break\n",
        "            \n",
        "        for j in range(y, y+n):\n",
        "            if matrix[j][i] != type: #하나라도 틀릴시에 재귀문 생성\n",
        "                k = n//3\n",
        "                \n",
        "                #9분면으로 잘라 실행\n",
        "                nine_tree(x, y, k) #1\n",
        "                nine_tree(x + k, y, k) #2\n",
        "                nine_tree(x + 2*k, y, k) #3 ...\n",
        "                nine_tree(x, y + k, k)\n",
        "                nine_tree(x + k,  y+ k, k)\n",
        "                nine_tree(x + 2*k, y + k, k)\n",
        "                nine_tree(x, y + 2*k, k)\n",
        "                nine_tree(x + k, y + 2*k, k)\n",
        "                nine_tree(x + 2*k, y + 2*k, k)\n",
        "                \n",
        "                double_break = True #탈출!\n",
        "                break\n",
        "    \n",
        "    if not double_break:\n",
        "        if matrix[y][x] == -1:\n",
        "            minus += 1\n",
        "        elif matrix[y][x] == 0:\n",
        "            zero += 1\n",
        "        else:\n",
        "            plus += 1\n",
        "\n",
        "\n",
        "N = int(input())\n",
        "matrix = []\n",
        "minus = 0\n",
        "zero = 0\n",
        "plus = 0\n",
        "\n",
        "for _ in range(N):\n",
        "    matrix.append(list(map(int, input().split())))\n",
        "\n",
        "\n",
        "nine_tree(0,0,N)\n",
        "print(minus)\n",
        "print(zero)\n",
        "print(plus)"
      ],
      "execution_count": null,
      "outputs": []
    },
    {
      "cell_type": "code",
      "metadata": {
        "id": "isUtos-Ncy2m"
      },
      "source": [
        "#04_곱셈_1629번\n",
        "N,M,D=map(int,input().split(' '))\n",
        "\n",
        "def power(a,b):\n",
        " if b == 1: return a % C\n",
        "    else:\n",
        "        temp = power(a, b // 2)\n",
        "        if b % 2 == 0:\n",
        "            return temp * temp % C\n",
        "        else:\n",
        "            return temp * temp * a % C\n",
        "print(power(N,M))"
      ],
      "execution_count": null,
      "outputs": []
    },
    {
      "cell_type": "code",
      "metadata": {
        "id": "cmqGET_rdCG2"
      },
      "source": [
        "#05_이항_계수_11401번\n",
        "10^10 (10^5)^2\n",
        "import sys\n",
        "read = sys.stdin.readline\n",
        "\n",
        "def power(a, b):\n",
        "    if b == 0:\n",
        "        return 1\n",
        "    if b % 2:   #홀수이면\n",
        "        return (power(a, b//2) ** 2 * a) % p\n",
        "    else:\n",
        "        return (power(a, b//2) ** 2) % p\n",
        "\n",
        "p = 1000000007\n",
        "N, K = map(int, read().split())\n",
        "\n",
        "fact = [1 for _ in range(N+1)]\n",
        "\n",
        "for i in range(2, N+1):\n",
        "    fact[i] = fact[i-1] * i % p\n",
        "\n",
        "A = fact[N]\n",
        "B = (fact[N-K] * fact[K]) % p\n",
        "\n",
        "\n",
        "print((A % p) * (power(B, p-2) % p) % p )"
      ],
      "execution_count": null,
      "outputs": []
    },
    {
      "cell_type": "code",
      "metadata": {
        "id": "ue_zNZjvhsVA"
      },
      "source": [
        "import math "
      ],
      "execution_count": null,
      "outputs": []
    },
    {
      "cell_type": "code",
      "metadata": {
        "id": "5VctARprdLHJ"
      },
      "source": [
        "#06_행렬_곱셈_2740번\n",
        "#노가다~\n",
        "N,M = map(int,input().split()) \n",
        "matrix1 = [] \n",
        "for i in range(N): \n",
        "    matrix1.append(list(map(int,input().split()))) \n",
        "Mb,K = map(int,input().split()) \n",
        "matrix2=[] \n",
        "for i in range(Mb): \n",
        "    matrix2.append(list(map(int,input().split())))\n",
        "    \n",
        "result = [[0 for _ in range(K)] for _ in range(N)] \n",
        "for n in range(N): \n",
        "    for k in range(K): \n",
        "        for m in range(M): \n",
        "            result[n][k] += matrix1[n][m] * matrix2[m][k] \n",
        "            \n",
        "for row in result: \n",
        "    for num in row: \n",
        "        print(num,end=' ') \n",
        "    print()"
      ],
      "execution_count": null,
      "outputs": []
    },
    {
      "cell_type": "code",
      "metadata": {
        "id": "pmmSYCbNdXca"
      },
      "source": [
        "#07_행렬_제곱_10830번\n",
        "\n",
        "import sys\n",
        "\n",
        "def prod(a, b): #계산해주는애\n",
        "    n = len(a)\n",
        "    c = [[0 for __ in range(n)] for _ in range(n)]\n",
        "    for i in range(n):\n",
        "        for j in range(n):\n",
        "            for k in range(n):\n",
        "                c[i][j] += a[i][k] * b[k][j]\n",
        "    remainder(c)\n",
        "    return c\n",
        "\n",
        "def remainder(A): #나눠주는애\n",
        "    n = len(A)\n",
        "    for i in range(n):\n",
        "        for j in range(n):\n",
        "            A[i][j] %= 1000\n",
        "\n",
        "def dnq(A, B): #나눠서 ㄱ네산해주기\n",
        "    if B == 1: return A\n",
        "    x = dnq(A, B//2)\n",
        "    if B % 2: return prod(prod(x, x), A)\n",
        "    else: return prod(x, x)\n",
        "\n",
        "N, B = map(int, sys.stdin.readline().split())\n",
        "A = []\n",
        "for i in range(N):\n",
        "    A.append(list(map(int, sys.stdin.readline().split())))\n",
        "remainder(A)\n",
        "print(\"\\n\".join(map(lambda x: \" \".join(map(str, x)), dnq(A, B))))"
      ],
      "execution_count": null,
      "outputs": []
    },
    {
      "cell_type": "code",
      "metadata": {
        "id": "QLXiZSAYdelo"
      },
      "source": [
        "#08_피보나치_수_6_11444\n",
        "\n",
        "import sys\n",
        "sys.setrecursionlimit(100000)\n",
        "input = sys.stdin.readline\n",
        "fibonacci = {0: 0, 1: 1, 2: 1}\n",
        "\n",
        "\n",
        "def getFibonacci(n):\n",
        "    if not fibonacci.get(n):\n",
        "        if n % 2 == 1:\n",
        "            fibonacci[n] = (getFibonacci((n+1)//2)**2 +\n",
        "                            getFibonacci((n+1)//2-1)**2) % 1000000007\n",
        "        else:\n",
        "            fibonacci[n] = (getFibonacci(n+1) - getFibonacci(n-1)) % 1000000007\n",
        "\n",
        "    return fibonacci[n]\n",
        "\n",
        "\n",
        "if __name__ == '__main__':\n",
        "    N = int(input())\n",
        "\n",
        "    print(getFibonacci(N))"
      ],
      "execution_count": null,
      "outputs": []
    },
    {
      "cell_type": "code",
      "metadata": {
        "id": "zTmlaauGdrpe"
      },
      "source": [
        "#09_히스토그램에서_가장_큰_직사각형_6549\n",
        "\n",
        "import sys\n",
        "while True:\n",
        "    input_list = list(map(int, sys.stdin.readline().split()))\n",
        "    if input_list[0] == 0:\n",
        "        break\n",
        "    input_list.append(0)\n",
        "    ret = 0\n",
        "    stack = [[0, 0]]\n",
        "    for i in range(1, input_list[0] + 2):\n",
        "        while stack[-1][1] > input_list[i]:\n",
        "            tmp_list = stack.pop()\n",
        "            tmp_area = 0\n",
        "            while stack[-1][1] == tmp_list[1]:\n",
        "                stack.pop()\n",
        "            tmp_area = max((i - 1 - stack[-1][0]) * tmp_list[1], (i - tmp_list[0]) * tmp_list[1])\n",
        "            if tmp_area > ret:\n",
        "                ret = tmp_area\n",
        "        stack.append([i, input_list[i]])\n",
        "    print(ret)"
      ],
      "execution_count": null,
      "outputs": []
    },
    {
      "cell_type": "code",
      "metadata": {
        "id": "c4H9MIQ6nN7r"
      },
      "source": [
        "import sys\n",
        "while 1:\n",
        "  n, *temp = list(map(int, sys.stdin.readline().split())) \n",
        "  if n == 0:\n",
        "    break \n",
        "  histogram = [0] + temp + [0] \n",
        "  checked = [0]#체크한부분 표시\n",
        "  area = 0 \n",
        "  for i in range(1, n + 2): \n",
        "    while checked and histogram[checked[-1]] > histogram[i]: # 만약에 지정한 위치보다 작을 경우\n",
        "      current = checked.pop() \n",
        "      area = max(area, (i - 1 - checked[-1]) * histogram[current]) #저장된 area와 새로운 area비교 \n",
        "    checked.append(i) #체크한부분 다시 표시!  \n",
        "  print(area)"
      ],
      "execution_count": null,
      "outputs": []
    },
    {
      "cell_type": "markdown",
      "metadata": {
        "id": "2WVHYjfksOYB"
      },
      "source": [
        ""
      ]
    }
  ]
}